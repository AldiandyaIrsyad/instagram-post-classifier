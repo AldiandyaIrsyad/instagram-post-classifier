{
 "cells": [
  {
   "cell_type": "code",
   "execution_count": 1,
   "metadata": {},
   "outputs": [],
   "source": [
    "import pandas as pd\n",
    "\n",
    "# import train test split\n",
    "from sklearn.model_selection import train_test_split"
   ]
  },
  {
   "cell_type": "code",
   "execution_count": 10,
   "metadata": {},
   "outputs": [],
   "source": [
    "df = pd.read_csv('dataset.csv')\n",
    "\n",
    "jb = df[df['username'] == 'justinbieber']\n"
   ]
  },
  {
   "cell_type": "code",
   "execution_count": 11,
   "metadata": {},
   "outputs": [
    {
     "data": {
      "text/plain": [
       "763"
      ]
     },
     "execution_count": 11,
     "metadata": {},
     "output_type": "execute_result"
    }
   ],
   "source": [
    "len(jt)"
   ]
  },
  {
   "cell_type": "code",
   "execution_count": 15,
   "metadata": {},
   "outputs": [],
   "source": [
    "jb_train, jb_test = train_test_split(jb, test_size=0.85)"
   ]
  },
  {
   "cell_type": "code",
   "execution_count": 16,
   "metadata": {},
   "outputs": [
    {
     "data": {
      "text/plain": [
       "5916"
      ]
     },
     "execution_count": 16,
     "metadata": {},
     "output_type": "execute_result"
    }
   ],
   "source": [
    "len(jb_test)"
   ]
  },
  {
   "cell_type": "code",
   "execution_count": 17,
   "metadata": {},
   "outputs": [
    {
     "data": {
      "text/plain": [
       "1044"
      ]
     },
     "execution_count": 17,
     "metadata": {},
     "output_type": "execute_result"
    }
   ],
   "source": [
    "len(jb_train)"
   ]
  },
  {
   "cell_type": "code",
   "execution_count": 20,
   "metadata": {},
   "outputs": [
    {
     "data": {
      "text/html": [
       "<div>\n",
       "<style scoped>\n",
       "    .dataframe tbody tr th:only-of-type {\n",
       "        vertical-align: middle;\n",
       "    }\n",
       "\n",
       "    .dataframe tbody tr th {\n",
       "        vertical-align: top;\n",
       "    }\n",
       "\n",
       "    .dataframe thead th {\n",
       "        text-align: right;\n",
       "    }\n",
       "</style>\n",
       "<table border=\"1\" class=\"dataframe\">\n",
       "  <thead>\n",
       "    <tr style=\"text-align: right;\">\n",
       "      <th></th>\n",
       "      <th>username</th>\n",
       "      <th>urls</th>\n",
       "      <th>post_dates</th>\n",
       "      <th>display_picture_relative_url</th>\n",
       "      <th>captions</th>\n",
       "      <th>n_likes</th>\n",
       "      <th>n_comments</th>\n",
       "      <th>n_hashtags</th>\n",
       "      <th>n_characters</th>\n",
       "      <th>n_words</th>\n",
       "      <th>n_emojis</th>\n",
       "      <th>n_mentions</th>\n",
       "      <th>is_video</th>\n",
       "    </tr>\n",
       "  </thead>\n",
       "  <tbody>\n",
       "    <tr>\n",
       "      <th>1859</th>\n",
       "      <td>justinbieber</td>\n",
       "      <td>https://www.instagram.com/p/B8ZPV5ZHSOW</td>\n",
       "      <td>1581355020</td>\n",
       "      <td>./imgs/B8ZPV5ZHSOW.png</td>\n",
       "      <td>This is one of the hard ones. But I hope it he...</td>\n",
       "      <td>555931</td>\n",
       "      <td>5234</td>\n",
       "      <td>1</td>\n",
       "      <td>240</td>\n",
       "      <td>42</td>\n",
       "      <td>0</td>\n",
       "      <td>0</td>\n",
       "      <td>True</td>\n",
       "    </tr>\n",
       "    <tr>\n",
       "      <th>3238</th>\n",
       "      <td>justinbieber</td>\n",
       "      <td>https://www.instagram.com/p/BIVb2tbh2dw</td>\n",
       "      <td>1469558091</td>\n",
       "      <td>./imgs/BIVb2tbh2dw.png</td>\n",
       "      <td>Thank you. Stream #coldwater on @Spotify now</td>\n",
       "      <td>1182679</td>\n",
       "      <td>20023</td>\n",
       "      <td>1</td>\n",
       "      <td>44</td>\n",
       "      <td>7</td>\n",
       "      <td>0</td>\n",
       "      <td>0</td>\n",
       "      <td>False</td>\n",
       "    </tr>\n",
       "    <tr>\n",
       "      <th>4293</th>\n",
       "      <td>justinbieber</td>\n",
       "      <td>https://www.instagram.com/p/9hM-_Ngvgz</td>\n",
       "      <td>1446330627</td>\n",
       "      <td>./imgs/9hM-_Ngvgz.png</td>\n",
       "      <td>This lady is a jellyfish haha homemade costume...</td>\n",
       "      <td>1022781</td>\n",
       "      <td>8627</td>\n",
       "      <td>1</td>\n",
       "      <td>52</td>\n",
       "      <td>9</td>\n",
       "      <td>0</td>\n",
       "      <td>0</td>\n",
       "      <td>False</td>\n",
       "    </tr>\n",
       "    <tr>\n",
       "      <th>306</th>\n",
       "      <td>justinbieber</td>\n",
       "      <td>https://www.instagram.com/p/CTXQYQDlcUR</td>\n",
       "      <td>1630680457</td>\n",
       "      <td>./imgs/CTXQYQDlcUR.png</td>\n",
       "      <td>NaN</td>\n",
       "      <td>1252002</td>\n",
       "      <td>6702</td>\n",
       "      <td>0</td>\n",
       "      <td>0</td>\n",
       "      <td>0</td>\n",
       "      <td>0</td>\n",
       "      <td>0</td>\n",
       "      <td>False</td>\n",
       "    </tr>\n",
       "    <tr>\n",
       "      <th>4844</th>\n",
       "      <td>justinbieber</td>\n",
       "      <td>https://www.instagram.com/p/3w1fgSgvgt</td>\n",
       "      <td>1433970280</td>\n",
       "      <td>./imgs/3w1fgSgvgt.png</td>\n",
       "      <td>#twilight #jacob lol</td>\n",
       "      <td>961447</td>\n",
       "      <td>15180</td>\n",
       "      <td>2</td>\n",
       "      <td>20</td>\n",
       "      <td>3</td>\n",
       "      <td>0</td>\n",
       "      <td>0</td>\n",
       "      <td>False</td>\n",
       "    </tr>\n",
       "    <tr>\n",
       "      <th>...</th>\n",
       "      <td>...</td>\n",
       "      <td>...</td>\n",
       "      <td>...</td>\n",
       "      <td>...</td>\n",
       "      <td>...</td>\n",
       "      <td>...</td>\n",
       "      <td>...</td>\n",
       "      <td>...</td>\n",
       "      <td>...</td>\n",
       "      <td>...</td>\n",
       "      <td>...</td>\n",
       "      <td>...</td>\n",
       "      <td>...</td>\n",
       "    </tr>\n",
       "    <tr>\n",
       "      <th>104</th>\n",
       "      <td>justinbieber</td>\n",
       "      <td>https://www.instagram.com/p/CXe5UFBPXOg</td>\n",
       "      <td>1639526734</td>\n",
       "      <td>./imgs/CXe5UFBPXOg.png</td>\n",
       "      <td>NaN</td>\n",
       "      <td>2193625</td>\n",
       "      <td>13458</td>\n",
       "      <td>0</td>\n",
       "      <td>0</td>\n",
       "      <td>0</td>\n",
       "      <td>0</td>\n",
       "      <td>0</td>\n",
       "      <td>False</td>\n",
       "    </tr>\n",
       "    <tr>\n",
       "      <th>3494</th>\n",
       "      <td>justinbieber</td>\n",
       "      <td>https://www.instagram.com/p/BGCBrBXAvs_</td>\n",
       "      <td>1464611862</td>\n",
       "      <td>./imgs/BGCBrBXAvs_.png</td>\n",
       "      <td>Happy bday baby @jazmynbieber</td>\n",
       "      <td>1328437</td>\n",
       "      <td>26139</td>\n",
       "      <td>0</td>\n",
       "      <td>29</td>\n",
       "      <td>4</td>\n",
       "      <td>0</td>\n",
       "      <td>1</td>\n",
       "      <td>False</td>\n",
       "    </tr>\n",
       "    <tr>\n",
       "      <th>4849</th>\n",
       "      <td>justinbieber</td>\n",
       "      <td>https://www.instagram.com/p/3wiEGngvqs</td>\n",
       "      <td>1433960094</td>\n",
       "      <td>./imgs/3wiEGngvqs.png</td>\n",
       "      <td>Photo by: @francescocarrozzini \\n@vogueitalia\\...</td>\n",
       "      <td>1095145</td>\n",
       "      <td>21598</td>\n",
       "      <td>1</td>\n",
       "      <td>84</td>\n",
       "      <td>7</td>\n",
       "      <td>0</td>\n",
       "      <td>0</td>\n",
       "      <td>False</td>\n",
       "    </tr>\n",
       "    <tr>\n",
       "      <th>6615</th>\n",
       "      <td>justinbieber</td>\n",
       "      <td>https://www.instagram.com/p/Qabzx-Avo6</td>\n",
       "      <td>1349466755</td>\n",
       "      <td>./imgs/Qabzx-Avo6.png</td>\n",
       "      <td>NaN</td>\n",
       "      <td>275120</td>\n",
       "      <td>4362</td>\n",
       "      <td>0</td>\n",
       "      <td>0</td>\n",
       "      <td>0</td>\n",
       "      <td>0</td>\n",
       "      <td>0</td>\n",
       "      <td>False</td>\n",
       "    </tr>\n",
       "    <tr>\n",
       "      <th>2881</th>\n",
       "      <td>justinbieber</td>\n",
       "      <td>https://www.instagram.com/p/BWJjSEZDGHP</td>\n",
       "      <td>1499224103</td>\n",
       "      <td>./imgs/BWJjSEZDGHP.png</td>\n",
       "      <td>NaN</td>\n",
       "      <td>2247255</td>\n",
       "      <td>28059</td>\n",
       "      <td>0</td>\n",
       "      <td>0</td>\n",
       "      <td>0</td>\n",
       "      <td>0</td>\n",
       "      <td>0</td>\n",
       "      <td>False</td>\n",
       "    </tr>\n",
       "  </tbody>\n",
       "</table>\n",
       "<p>5916 rows × 13 columns</p>\n",
       "</div>"
      ],
      "text/plain": [
       "          username                                     urls  post_dates  \\\n",
       "1859  justinbieber  https://www.instagram.com/p/B8ZPV5ZHSOW  1581355020   \n",
       "3238  justinbieber  https://www.instagram.com/p/BIVb2tbh2dw  1469558091   \n",
       "4293  justinbieber   https://www.instagram.com/p/9hM-_Ngvgz  1446330627   \n",
       "306   justinbieber  https://www.instagram.com/p/CTXQYQDlcUR  1630680457   \n",
       "4844  justinbieber   https://www.instagram.com/p/3w1fgSgvgt  1433970280   \n",
       "...            ...                                      ...         ...   \n",
       "104   justinbieber  https://www.instagram.com/p/CXe5UFBPXOg  1639526734   \n",
       "3494  justinbieber  https://www.instagram.com/p/BGCBrBXAvs_  1464611862   \n",
       "4849  justinbieber   https://www.instagram.com/p/3wiEGngvqs  1433960094   \n",
       "6615  justinbieber   https://www.instagram.com/p/Qabzx-Avo6  1349466755   \n",
       "2881  justinbieber  https://www.instagram.com/p/BWJjSEZDGHP  1499224103   \n",
       "\n",
       "     display_picture_relative_url  \\\n",
       "1859       ./imgs/B8ZPV5ZHSOW.png   \n",
       "3238       ./imgs/BIVb2tbh2dw.png   \n",
       "4293        ./imgs/9hM-_Ngvgz.png   \n",
       "306        ./imgs/CTXQYQDlcUR.png   \n",
       "4844        ./imgs/3w1fgSgvgt.png   \n",
       "...                           ...   \n",
       "104        ./imgs/CXe5UFBPXOg.png   \n",
       "3494       ./imgs/BGCBrBXAvs_.png   \n",
       "4849        ./imgs/3wiEGngvqs.png   \n",
       "6615        ./imgs/Qabzx-Avo6.png   \n",
       "2881       ./imgs/BWJjSEZDGHP.png   \n",
       "\n",
       "                                               captions  n_likes  n_comments  \\\n",
       "1859  This is one of the hard ones. But I hope it he...   555931        5234   \n",
       "3238       Thank you. Stream #coldwater on @Spotify now  1182679       20023   \n",
       "4293  This lady is a jellyfish haha homemade costume...  1022781        8627   \n",
       "306                                                 NaN  1252002        6702   \n",
       "4844                               #twilight #jacob lol   961447       15180   \n",
       "...                                                 ...      ...         ...   \n",
       "104                                                 NaN  2193625       13458   \n",
       "3494                      Happy bday baby @jazmynbieber  1328437       26139   \n",
       "4849  Photo by: @francescocarrozzini \\n@vogueitalia\\...  1095145       21598   \n",
       "6615                                                NaN   275120        4362   \n",
       "2881                                                NaN  2247255       28059   \n",
       "\n",
       "      n_hashtags  n_characters  n_words  n_emojis  n_mentions  is_video  \n",
       "1859           1           240       42         0           0      True  \n",
       "3238           1            44        7         0           0     False  \n",
       "4293           1            52        9         0           0     False  \n",
       "306            0             0        0         0           0     False  \n",
       "4844           2            20        3         0           0     False  \n",
       "...          ...           ...      ...       ...         ...       ...  \n",
       "104            0             0        0         0           0     False  \n",
       "3494           0            29        4         0           1     False  \n",
       "4849           1            84        7         0           0     False  \n",
       "6615           0             0        0         0           0     False  \n",
       "2881           0             0        0         0           0     False  \n",
       "\n",
       "[5916 rows x 13 columns]"
      ]
     },
     "execution_count": 20,
     "metadata": {},
     "output_type": "execute_result"
    }
   ],
   "source": [
    "jb_test"
   ]
  },
  {
   "cell_type": "code",
   "execution_count": 22,
   "metadata": {},
   "outputs": [],
   "source": [
    "import os\n",
    "for path in jb_test['display_picture_relative_url']:\n",
    "    # delete file \n",
    "    os.remove(path)"
   ]
  },
  {
   "cell_type": "code",
   "execution_count": 23,
   "metadata": {},
   "outputs": [],
   "source": [
    "# delete all row with justinbieber username\n",
    "df = df[df['username'] != 'justinbieber'].copy()\n",
    "\n",
    "# append train to df\n",
    "df = df.append(jb_train)"
   ]
  },
  {
   "cell_type": "code",
   "execution_count": 24,
   "metadata": {},
   "outputs": [],
   "source": [
    "df.to_csv(\"prebalanced_dataset.csv\")"
   ]
  },
  {
   "cell_type": "code",
   "execution_count": null,
   "metadata": {},
   "outputs": [],
   "source": []
  }
 ],
 "metadata": {
  "interpreter": {
   "hash": "318f5b35f954d79c0c3a84865d529db06464610d7172740f793d2e4523dee7b5"
  },
  "kernelspec": {
   "display_name": "Python 3.9.7 ('hacktiv8')",
   "language": "python",
   "name": "python3"
  },
  "language_info": {
   "codemirror_mode": {
    "name": "ipython",
    "version": 3
   },
   "file_extension": ".py",
   "mimetype": "text/x-python",
   "name": "python",
   "nbconvert_exporter": "python",
   "pygments_lexer": "ipython3",
   "version": "3.10.0"
  },
  "orig_nbformat": 4
 },
 "nbformat": 4,
 "nbformat_minor": 2
}
